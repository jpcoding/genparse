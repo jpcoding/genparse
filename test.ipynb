{
 "cells": [
  {
   "cell_type": "code",
   "execution_count": 2,
   "metadata": {},
   "outputs": [
    {
     "ename": "KeyError",
     "evalue": "'advisors'",
     "output_type": "error",
     "traceback": [
      "\u001b[0;31m---------------------------------------------------------------------------\u001b[0m",
      "\u001b[0;31mKeyError\u001b[0m                                  Traceback (most recent call last)",
      "Cell \u001b[0;32mIn[2], line 1\u001b[0m\n\u001b[0;32m----> 1\u001b[0m insert_string \u001b[39m=\u001b[39m \u001b[39m'''\u001b[39;49m\u001b[39m CREATE VERTEX Person SET\u001b[39;49m\n\u001b[1;32m      2\u001b[0m \u001b[39m                id = \u001b[39;49m\u001b[39m{id}\u001b[39;49;00m\u001b[39m,\u001b[39;49m\n\u001b[1;32m      3\u001b[0m \u001b[39m                name = \u001b[39;49m\u001b[39m{name}\u001b[39;49;00m\u001b[39m,\u001b[39;49m\n\u001b[1;32m      4\u001b[0m \u001b[39m                students = \u001b[39;49m\u001b[39m{students}\u001b[39;49;00m\u001b[39m,\u001b[39;49m\n\u001b[1;32m      5\u001b[0m \u001b[39m                advisors = \u001b[39;49m\u001b[39m{advisors}\u001b[39;49;00m\u001b[39m,\u001b[39;49m\n\u001b[1;32m      6\u001b[0m \u001b[39m                wikiUrl =\u001b[39;49m\u001b[39m{wiki}\u001b[39;49;00m\u001b[39m,\u001b[39;49m\n\u001b[1;32m      7\u001b[0m \u001b[39m                wikiImage = \u001b[39;49m\u001b[39m{wikiimg}\u001b[39;49;00m\u001b[39m,\u001b[39;49m\n\u001b[1;32m      8\u001b[0m \u001b[39m                degreeLists = \u001b[39;49m\u001b[39m{degreeList}\u001b[39;49;00m\u001b[39m'''\u001b[39;49m\u001b[39m.\u001b[39;49mformat(\u001b[39mid\u001b[39;49m\u001b[39m=\u001b[39;49m\u001b[39m1\u001b[39;49m,name\u001b[39m=\u001b[39;49m\u001b[39m'\u001b[39;49m\u001b[39mll\u001b[39;49m\u001b[39m'\u001b[39;49m,students\u001b[39m=\u001b[39;49m\u001b[39m2\u001b[39;49m  )\n\u001b[1;32m      9\u001b[0m \u001b[39mprint\u001b[39m(insert_string)\n",
      "\u001b[0;31mKeyError\u001b[0m: 'advisors'"
     ]
    }
   ],
   "source": [
    "insert_string = ''' CREATE VERTEX Person SET\n",
    "                id = {id},\n",
    "                name = {name},\n",
    "                students = {students},\n",
    "                advisors = {advisors},\n",
    "                wikiUrl ={wiki},\n",
    "                wikiImage = {wikiimg},\n",
    "                degreeLists = {degreeList}'''.format(id=1,name='ll',students=2  )\n",
    "print(insert_string)"
   ]
  },
  {
   "cell_type": "code",
   "execution_count": 1,
   "metadata": {},
   "outputs": [],
   "source": [
    "import json \n",
    "\n",
    "with open('master.json') as f:\n",
    "    data = json.load(f)"
   ]
  },
  {
   "cell_type": "code",
   "execution_count": 5,
   "metadata": {},
   "outputs": [
    {
     "data": {
      "text/plain": [
       "250"
      ]
     },
     "execution_count": 5,
     "metadata": {},
     "output_type": "execute_result"
    }
   ],
   "source": [
    "len(data.keys())"
   ]
  },
  {
   "cell_type": "code",
   "execution_count": 3,
   "metadata": {},
   "outputs": [
    {
     "data": {
      "text/plain": [
       "int"
      ]
     },
     "execution_count": 3,
     "metadata": {},
     "output_type": "execute_result"
    }
   ],
   "source": [
    "type(data['131584']['id'])"
   ]
  },
  {
   "cell_type": "code",
   "execution_count": 9,
   "metadata": {},
   "outputs": [
    {
     "data": {
      "text/plain": [
       "list"
      ]
     },
     "execution_count": 9,
     "metadata": {},
     "output_type": "execute_result"
    }
   ],
   "source": [
    "type(data['131584']['students'])"
   ]
  },
  {
   "cell_type": "code",
   "execution_count": null,
   "metadata": {},
   "outputs": [],
   "source": [
    "distance =25\n",
    "#39:1\n",
    "#38:1\n",
    "#38:19\n",
    "#34:1\n",
    "#44:0\n",
    "#43:0\n",
    "#44:12\n",
    "#34:15\n",
    "#38:16\n",
    "#33:6\n",
    "#41:5\n",
    "#43:4\n",
    "#34:5\n",
    "#39:18\n",
    "#44:17\n",
    "#41:2\n",
    "#33:3\n",
    "#42:19\n",
    "#36:12\n",
    "#40:14\n",
    "#40:19\n",
    "#37:20\n",
    "#44:3\n",
    "#42:16\n",
    "#39:7\n",
    "25"
   ]
  }
 ],
 "metadata": {
  "kernelspec": {
   "display_name": "Python 3",
   "language": "python",
   "name": "python3"
  },
  "language_info": {
   "codemirror_mode": {
    "name": "ipython",
    "version": 3
   },
   "file_extension": ".py",
   "mimetype": "text/x-python",
   "name": "python",
   "nbconvert_exporter": "python",
   "pygments_lexer": "ipython3",
   "version": "3.10.6"
  },
  "orig_nbformat": 4,
  "vscode": {
   "interpreter": {
    "hash": "916dbcbb3f70747c44a77c7bcd40155683ae19c65e1c03b4aa3499c5328201f1"
   }
  }
 },
 "nbformat": 4,
 "nbformat_minor": 2
}
