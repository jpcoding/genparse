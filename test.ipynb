{
 "cells": [
  {
   "cell_type": "code",
   "execution_count": 2,
   "metadata": {},
   "outputs": [
    {
     "ename": "KeyError",
     "evalue": "'advisors'",
     "output_type": "error",
     "traceback": [
      "\u001b[0;31m---------------------------------------------------------------------------\u001b[0m",
      "\u001b[0;31mKeyError\u001b[0m                                  Traceback (most recent call last)",
      "Cell \u001b[0;32mIn[2], line 1\u001b[0m\n\u001b[0;32m----> 1\u001b[0m insert_string \u001b[39m=\u001b[39m \u001b[39m'''\u001b[39;49m\u001b[39m CREATE VERTEX Person SET\u001b[39;49m\n\u001b[1;32m      2\u001b[0m \u001b[39m                id = \u001b[39;49m\u001b[39m{id}\u001b[39;49;00m\u001b[39m,\u001b[39;49m\n\u001b[1;32m      3\u001b[0m \u001b[39m                name = \u001b[39;49m\u001b[39m{name}\u001b[39;49;00m\u001b[39m,\u001b[39;49m\n\u001b[1;32m      4\u001b[0m \u001b[39m                students = \u001b[39;49m\u001b[39m{students}\u001b[39;49;00m\u001b[39m,\u001b[39;49m\n\u001b[1;32m      5\u001b[0m \u001b[39m                advisors = \u001b[39;49m\u001b[39m{advisors}\u001b[39;49;00m\u001b[39m,\u001b[39;49m\n\u001b[1;32m      6\u001b[0m \u001b[39m                wikiUrl =\u001b[39;49m\u001b[39m{wiki}\u001b[39;49;00m\u001b[39m,\u001b[39;49m\n\u001b[1;32m      7\u001b[0m \u001b[39m                wikiImage = \u001b[39;49m\u001b[39m{wikiimg}\u001b[39;49;00m\u001b[39m,\u001b[39;49m\n\u001b[1;32m      8\u001b[0m \u001b[39m                degreeLists = \u001b[39;49m\u001b[39m{degreeList}\u001b[39;49;00m\u001b[39m'''\u001b[39;49m\u001b[39m.\u001b[39;49mformat(\u001b[39mid\u001b[39;49m\u001b[39m=\u001b[39;49m\u001b[39m1\u001b[39;49m,name\u001b[39m=\u001b[39;49m\u001b[39m'\u001b[39;49m\u001b[39mll\u001b[39;49m\u001b[39m'\u001b[39;49m,students\u001b[39m=\u001b[39;49m\u001b[39m2\u001b[39;49m  )\n\u001b[1;32m      9\u001b[0m \u001b[39mprint\u001b[39m(insert_string)\n",
      "\u001b[0;31mKeyError\u001b[0m: 'advisors'"
     ]
    }
   ],
   "source": [
    "insert_string = ''' CREATE VERTEX Person SET\n",
    "                id = {id},\n",
    "                name = {name},\n",
    "                students = {students},\n",
    "                advisors = {advisors},\n",
    "                wikiUrl ={wiki},\n",
    "                wikiImage = {wikiimg},\n",
    "                degreeLists = {degreeList}'''.format(id=1,name='ll',students=2  )\n",
    "print(insert_string)"
   ]
  },
  {
   "cell_type": "code",
   "execution_count": 3,
   "metadata": {},
   "outputs": [],
   "source": [
    "import json \n",
    "\n",
    "with open('master.json') as f:\n",
    "    data = json.load(f)"
   ]
  },
  {
   "cell_type": "code",
   "execution_count": 10,
   "metadata": {},
   "outputs": [
    {
     "data": {
      "text/plain": [
       "{'id': 131584,\n",
       " 'name': 'Theodoros Gazes',\n",
       " 'students': [128012, 131576],\n",
       " 'advisors': [134873],\n",
       " 'wikiUrl': 'https://en.wikipedia.org/wiki/Theodorus_Gaza',\n",
       " 'wikiImage': 'https://upload.wikimedia.org/wikipedia/commons/7/72/Theodorus_Gaza_Macedonia.jpg',\n",
       " 'degreeLists': {'Magister artium Università di Mantova 1433': 'img/flags/Italy.gif'},\n",
       " 'isProcessed': True}"
      ]
     },
     "execution_count": 10,
     "metadata": {},
     "output_type": "execute_result"
    }
   ],
   "source": [
    "data['131584']['id']"
   ]
  },
  {
   "cell_type": "code",
   "execution_count": 12,
   "metadata": {},
   "outputs": [
    {
     "data": {
      "text/plain": [
       "int"
      ]
     },
     "execution_count": 12,
     "metadata": {},
     "output_type": "execute_result"
    }
   ],
   "source": [
    "type(data['131584']['id'])"
   ]
  },
  {
   "cell_type": "code",
   "execution_count": 9,
   "metadata": {},
   "outputs": [
    {
     "data": {
      "text/plain": [
       "list"
      ]
     },
     "execution_count": 9,
     "metadata": {},
     "output_type": "execute_result"
    }
   ],
   "source": [
    "type(data['131584']['students'])"
   ]
  }
 ],
 "metadata": {
  "kernelspec": {
   "display_name": "Python 3",
   "language": "python",
   "name": "python3"
  },
  "language_info": {
   "codemirror_mode": {
    "name": "ipython",
    "version": 3
   },
   "file_extension": ".py",
   "mimetype": "text/x-python",
   "name": "python",
   "nbconvert_exporter": "python",
   "pygments_lexer": "ipython3",
   "version": "3.10.6"
  },
  "orig_nbformat": 4,
  "vscode": {
   "interpreter": {
    "hash": "916dbcbb3f70747c44a77c7bcd40155683ae19c65e1c03b4aa3499c5328201f1"
   }
  }
 },
 "nbformat": 4,
 "nbformat_minor": 2
}
